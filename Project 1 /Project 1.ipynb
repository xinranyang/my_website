{
 "cells": [
  {
   "cell_type": "markdown",
   "id": "2616a7e2-205e-4d23-9a52-2cbc27f0db39",
   "metadata": {},
   "source": [
    "# Read in the data\n",
    "Use Pandas to read the data. This dataset is from Kaggle and contains top-rated movies from the IMDb website, gathered based on different genres and are also in different languages. Movies from the early 1930s to current year titles are collected, cleaned, and arranged in this dataset."
   ]
  },
  {
   "cell_type": "code",
   "execution_count": 30,
   "id": "845426ac-4f86-41f4-b6af-e87fd7512602",
   "metadata": {},
   "outputs": [],
   "source": [
    "import pandas as pd\n",
    "data = pd.read_csv('IMDb_All_Genres_etf_clean1.csv')"
   ]
  },
  {
   "cell_type": "markdown",
   "id": "5872b9f4-c553-47c3-bb17-474bdf381a3f",
   "metadata": {},
   "source": [
    "Show the top 5 rows for reference. For this project, I focus on the \"Rating\" column. I will calculate the mean, median, and mode of the ratings."
   ]
  },
  {
   "cell_type": "code",
   "execution_count": 67,
   "id": "438bd766-f97f-489e-abfc-001312a30d29",
   "metadata": {},
   "outputs": [
    {
     "data": {
      "text/html": [
       "<div>\n",
       "<style scoped>\n",
       "    .dataframe tbody tr th:only-of-type {\n",
       "        vertical-align: middle;\n",
       "    }\n",
       "\n",
       "    .dataframe tbody tr th {\n",
       "        vertical-align: top;\n",
       "    }\n",
       "\n",
       "    .dataframe thead th {\n",
       "        text-align: right;\n",
       "    }\n",
       "</style>\n",
       "<table border=\"1\" class=\"dataframe\">\n",
       "  <thead>\n",
       "    <tr style=\"text-align: right;\">\n",
       "      <th></th>\n",
       "      <th>Movie_Title</th>\n",
       "      <th>Year</th>\n",
       "      <th>Director</th>\n",
       "      <th>Actors</th>\n",
       "      <th>Rating</th>\n",
       "      <th>Runtime(Mins)</th>\n",
       "      <th>Censor</th>\n",
       "      <th>Total_Gross</th>\n",
       "      <th>main_genre</th>\n",
       "      <th>side_genre</th>\n",
       "    </tr>\n",
       "  </thead>\n",
       "  <tbody>\n",
       "    <tr>\n",
       "      <th>0</th>\n",
       "      <td>Kantara</td>\n",
       "      <td>2022</td>\n",
       "      <td>Rishab Shetty</td>\n",
       "      <td>Rishab Shetty, Sapthami Gowda, Kishore Kumar G...</td>\n",
       "      <td>9.3</td>\n",
       "      <td>148</td>\n",
       "      <td>UA</td>\n",
       "      <td>Gross Unkown</td>\n",
       "      <td>Action</td>\n",
       "      <td>Adventure,  Drama</td>\n",
       "    </tr>\n",
       "    <tr>\n",
       "      <th>1</th>\n",
       "      <td>The Dark Knight</td>\n",
       "      <td>2008</td>\n",
       "      <td>Christopher Nolan</td>\n",
       "      <td>Christian Bale, Heath Ledger, Aaron Eckhart, M...</td>\n",
       "      <td>9.0</td>\n",
       "      <td>152</td>\n",
       "      <td>UA</td>\n",
       "      <td>$534.86M</td>\n",
       "      <td>Action</td>\n",
       "      <td>Crime,  Drama</td>\n",
       "    </tr>\n",
       "    <tr>\n",
       "      <th>2</th>\n",
       "      <td>The Lord of the Rings: The Return of the King</td>\n",
       "      <td>2003</td>\n",
       "      <td>Peter Jackson</td>\n",
       "      <td>Elijah Wood, Viggo Mortensen, Ian McKellen, Or...</td>\n",
       "      <td>9.0</td>\n",
       "      <td>201</td>\n",
       "      <td>U</td>\n",
       "      <td>$377.85M</td>\n",
       "      <td>Action</td>\n",
       "      <td>Adventure,  Drama</td>\n",
       "    </tr>\n",
       "    <tr>\n",
       "      <th>3</th>\n",
       "      <td>Inception</td>\n",
       "      <td>2010</td>\n",
       "      <td>Christopher Nolan</td>\n",
       "      <td>Leonardo DiCaprio, Joseph Gordon-Levitt, Ellio...</td>\n",
       "      <td>8.8</td>\n",
       "      <td>148</td>\n",
       "      <td>UA</td>\n",
       "      <td>$292.58M</td>\n",
       "      <td>Action</td>\n",
       "      <td>Adventure,  Sci-Fi</td>\n",
       "    </tr>\n",
       "    <tr>\n",
       "      <th>4</th>\n",
       "      <td>The Lord of the Rings: The Two Towers</td>\n",
       "      <td>2002</td>\n",
       "      <td>Peter Jackson</td>\n",
       "      <td>Elijah Wood, Ian McKellen, Viggo Mortensen, Or...</td>\n",
       "      <td>8.8</td>\n",
       "      <td>179</td>\n",
       "      <td>UA</td>\n",
       "      <td>$342.55M</td>\n",
       "      <td>Action</td>\n",
       "      <td>Adventure,  Drama</td>\n",
       "    </tr>\n",
       "  </tbody>\n",
       "</table>\n",
       "</div>"
      ],
      "text/plain": [
       "                                     Movie_Title  Year           Director  \\\n",
       "0                                        Kantara  2022      Rishab Shetty   \n",
       "1                                The Dark Knight  2008  Christopher Nolan   \n",
       "2  The Lord of the Rings: The Return of the King  2003      Peter Jackson   \n",
       "3                                      Inception  2010  Christopher Nolan   \n",
       "4          The Lord of the Rings: The Two Towers  2002      Peter Jackson   \n",
       "\n",
       "                                              Actors  Rating  Runtime(Mins)  \\\n",
       "0  Rishab Shetty, Sapthami Gowda, Kishore Kumar G...     9.3            148   \n",
       "1  Christian Bale, Heath Ledger, Aaron Eckhart, M...     9.0            152   \n",
       "2  Elijah Wood, Viggo Mortensen, Ian McKellen, Or...     9.0            201   \n",
       "3  Leonardo DiCaprio, Joseph Gordon-Levitt, Ellio...     8.8            148   \n",
       "4  Elijah Wood, Ian McKellen, Viggo Mortensen, Or...     8.8            179   \n",
       "\n",
       "  Censor   Total_Gross main_genre           side_genre  \n",
       "0     UA  Gross Unkown     Action    Adventure,  Drama  \n",
       "1     UA      $534.86M     Action        Crime,  Drama  \n",
       "2      U      $377.85M     Action    Adventure,  Drama  \n",
       "3     UA      $292.58M     Action   Adventure,  Sci-Fi  \n",
       "4     UA      $342.55M     Action    Adventure,  Drama  "
      ]
     },
     "execution_count": 67,
     "metadata": {},
     "output_type": "execute_result"
    }
   ],
   "source": [
    "data.head()"
   ]
  },
  {
   "cell_type": "markdown",
   "id": "8eb4d599-cea0-4328-82d5-6e9b4d99a09a",
   "metadata": {},
   "source": [
    "# Use Pandas to Compute the Mean, Median and Mode"
   ]
  },
  {
   "cell_type": "markdown",
   "id": "cfd2c4f1-8ab8-4d3e-b63d-7b69aa1913dd",
   "metadata": {},
   "source": [
    "### Use Pandas to compute the mean"
   ]
  },
  {
   "cell_type": "code",
   "execution_count": 37,
   "id": "29f94827-c228-44eb-9e71-a130583ac7e3",
   "metadata": {},
   "outputs": [
    {
     "name": "stdout",
     "output_type": "stream",
     "text": [
      "Mean Rating: 6.76\n"
     ]
    }
   ],
   "source": [
    "mean_rating_pd = data['Rating'].mean()\n",
    "print(f\"Mean Rating: {mean_rating_pd:.2f}\")"
   ]
  },
  {
   "cell_type": "markdown",
   "id": "f7fbc363-bbfe-4a2e-bd4d-e74b3143adff",
   "metadata": {},
   "source": [
    "### Use Pandas to compute the median"
   ]
  },
  {
   "cell_type": "code",
   "execution_count": 40,
   "id": "2299e0e0-fe69-40bd-be2e-6fce5b02ee18",
   "metadata": {},
   "outputs": [
    {
     "name": "stdout",
     "output_type": "stream",
     "text": [
      "Median Rating: 6.80\n"
     ]
    }
   ],
   "source": [
    "median_rating_pd = data['Rating'].median()\n",
    "print(f'Median Rating: {median_rating_pd:.2f}')"
   ]
  },
  {
   "cell_type": "markdown",
   "id": "850a214b-191c-4ce5-8a73-acb9bbaa98a6",
   "metadata": {},
   "source": [
    "### Use Pandas to compute the mode"
   ]
  },
  {
   "cell_type": "code",
   "execution_count": 43,
   "id": "e58edbad-2ad4-4f1a-975a-31b49901315f",
   "metadata": {},
   "outputs": [
    {
     "name": "stdout",
     "output_type": "stream",
     "text": [
      "Mode Rating: 7.30\n"
     ]
    }
   ],
   "source": [
    "mode_rating_pd = data['Rating'].mode()[0]\n",
    "print(f'Mode Rating: {mode_rating_pd:.2f}')"
   ]
  },
  {
   "cell_type": "markdown",
   "id": "ebbe0a92-cb49-4a7e-81a1-938c8f9b218e",
   "metadata": {},
   "source": [
    "### Findings\n",
    "The average rating across all movies is 6.76. The middle rating value (when all ratings are ordered from lowest to highest) is 6.80. The most frequently occurring rating is 7.30. \n",
    "\n",
    "The mean is slightly smaller than the median; hence, the ratings show a left-skewed (negatively skewed) distribution. This means most movies are rated relatively well, and the lower mean could be influenced by a few outliers or lower-rated movies that bring the average down."
   ]
  },
  {
   "cell_type": "markdown",
   "id": "24dca0e5-226e-4402-a65f-ef3bf02752e6",
   "metadata": {},
   "source": [
    "# Using Python Standard Library to Compute the Mean, Median and Mode"
   ]
  },
  {
   "cell_type": "code",
   "execution_count": 74,
   "id": "6d51ca5a-a015-4640-aef6-010466d05c20",
   "metadata": {},
   "outputs": [],
   "source": [
    "import csv"
   ]
  },
  {
   "cell_type": "code",
   "execution_count": 51,
   "id": "f20fb7c7-534d-45fd-893d-1feeeca39be5",
   "metadata": {},
   "outputs": [],
   "source": [
    "rating_counts = {}\n",
    "ratings_list = []\n",
    "total = 0\n",
    "count = 0"
   ]
  },
  {
   "cell_type": "markdown",
   "id": "b0dc73bc-a289-4126-a022-a31489befa1c",
   "metadata": {},
   "source": [
    "### Use Pure Python to Compute the Mean"
   ]
  },
  {
   "cell_type": "code",
   "execution_count": 76,
   "id": "0d8ad74f-1332-4689-8796-5d9826159cb3",
   "metadata": {},
   "outputs": [
    {
     "name": "stdout",
     "output_type": "stream",
     "text": [
      "Average Rating: 6.76\n"
     ]
    }
   ],
   "source": [
    "with open('IMDb_All_Genres_etf_clean1.csv', 'r') as file:\n",
    "    reader = csv.reader(file)\n",
    "    header = next(reader)\n",
    "\n",
    "    # Codes below are assisted with GenAI.\n",
    "    try:\n",
    "        rating_index = header.index(\"Rating\")\n",
    "    except ValueError:\n",
    "        print(\"Column 'Rating' not found in the header.\")\n",
    "        rating_index = None\n",
    "    ## Codes above are assisted with GenAI.\n",
    "    \n",
    "    if rating_index is not None:\n",
    "        for row in reader:\n",
    "            if len(row) > rating_index:\n",
    "                rating_str = row[rating_index].strip()\n",
    "\n",
    "                # Codes below are assisted with GenAI.\n",
    "                try:\n",
    "                    rating = float(rating_str)\n",
    "                    ratings_list.append(rating)\n",
    "\n",
    "                    total += rating\n",
    "                    count += 1\n",
    "\n",
    "                    if rating in rating_counts:\n",
    "                        rating_counts[rating] += 1\n",
    "                    else:\n",
    "                        rating_counts[rating] = 1\n",
    "                except ValueError:\n",
    "                    print(f\"Skipping non-numeric rating: {rating_str}\")\n",
    "                # Codes above are assisted with GenAI.\n",
    "            \n",
    "            else:\n",
    "                print(f\"Skipping row with missing rating: {row}\")\n",
    "\n",
    "print(f\"Average Rating: {total / count if count > 0 else 0:.2f}\")"
   ]
  },
  {
   "cell_type": "markdown",
   "id": "1151aff6-1aff-4ab4-ad99-7b84b4b6c643",
   "metadata": {},
   "source": [
    "### Use Pure Python to Compute the Median"
   ]
  },
  {
   "cell_type": "code",
   "execution_count": 79,
   "id": "5a234e9a-691e-4a8b-850b-c02ab02e0cb8",
   "metadata": {},
   "outputs": [
    {
     "name": "stdout",
     "output_type": "stream",
     "text": [
      "Median Rating: 6.80\n"
     ]
    }
   ],
   "source": [
    "ratings_list.sort()\n",
    "n = len(ratings_list)\n",
    "if n % 2 == 1:\n",
    "    median_rating = ratings_list[n // 2]\n",
    "else:\n",
    "    median_rating = (ratings_list[n // 2 - 1] + ratings_list[n // 2]) / 2\n",
    "\n",
    "print(f\"Median Rating: {median_rating:.2f}\")"
   ]
  },
  {
   "cell_type": "markdown",
   "id": "910f0c60-559d-432e-a5d0-254a92f60c64",
   "metadata": {},
   "source": [
    "### Use Pure Python to Compute the Mode"
   ]
  },
  {
   "cell_type": "code",
   "execution_count": 82,
   "id": "0735af8f-e6cc-4b8d-8e32-3b208ed662a2",
   "metadata": {},
   "outputs": [
    {
     "name": "stdout",
     "output_type": "stream",
     "text": [
      "Mode Rating: 7.30\n"
     ]
    }
   ],
   "source": [
    "max_count = max(rating_counts.values())\n",
    "mode_rating_list = [rating for rating, count in rating_counts.items() if count == max_count]\n",
    "\n",
    "mode_rating = \", \".join(f\"{float(rating):.2f}\" for rating in mode_rating_list)\n",
    "\n",
    "print(f\"Mode Rating: {mode_rating}\")"
   ]
  },
  {
   "cell_type": "markdown",
   "id": "23488cb5-b970-4158-a098-e6140f9d0826",
   "metadata": {},
   "source": [
    "# Creating a data visualization"
   ]
  },
  {
   "cell_type": "code",
   "execution_count": 85,
   "id": "1af58b2c-b02c-4303-8cf3-21704abe117a",
   "metadata": {},
   "outputs": [
    {
     "name": "stdout",
     "output_type": "stream",
     "text": [
      "Mean Rating: ******\n",
      "Median Rating: ******\n",
      "Mode Rating: *******\n"
     ]
    }
   ],
   "source": [
    "mean_stars = int(mean_rating_pd)\n",
    "median_stars = int(median_rating_pd)\n",
    "mode_stars = int(mode_rating_pd)\n",
    "\n",
    "print(\"Mean Rating:\", '*' * mean_stars)\n",
    "print(\"Median Rating:\", '*' * median_stars)\n",
    "print(\"Mode Rating:\", '*' * mode_stars)"
   ]
  }
 ],
 "metadata": {
  "kernelspec": {
   "display_name": "Python 3 (ipykernel)",
   "language": "python",
   "name": "python3"
  },
  "language_info": {
   "codemirror_mode": {
    "name": "ipython",
    "version": 3
   },
   "file_extension": ".py",
   "mimetype": "text/x-python",
   "name": "python",
   "nbconvert_exporter": "python",
   "pygments_lexer": "ipython3",
   "version": "3.12.2"
  }
 },
 "nbformat": 4,
 "nbformat_minor": 5
}
