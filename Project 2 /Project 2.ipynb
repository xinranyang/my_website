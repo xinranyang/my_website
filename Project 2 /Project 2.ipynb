{
 "cells": [
  {
   "cell_type": "markdown",
   "id": "0650e506-e7e0-48f9-8f9d-2a5155c8dde9",
   "metadata": {},
   "source": [
    "# Project 2\n",
    "### Mapping the Top 10 Market Value Fortune 500 Companies in the U.S."
   ]
  },
  {
   "cell_type": "markdown",
   "id": "c16f9181-d8f6-4a8c-ae0b-2be80c750b76",
   "metadata": {},
   "source": [
    "Import Pandas. Use Plotly Express-powered backend for Pandas plotting. "
   ]
  },
  {
   "cell_type": "code",
   "execution_count": 1,
   "id": "739c6283-292c-480c-9811-d307155e465b",
   "metadata": {},
   "outputs": [],
   "source": [
    "import pandas as pd\n",
    "import plotly.express as px\n",
    "import plotly.io as pio\n",
    "pio.renderers.default = \"vscode+jupyterlab+notebook_connected\""
   ]
  },
  {
   "cell_type": "markdown",
   "id": "33d369fd-3e61-4e17-b669-37ce87b1ee3b",
   "metadata": {},
   "source": [
    "Read the Fortune500.csv data. The source is https://www.kaggle.com/datasets/RM1000/fortune-500-companies. Prepare for the merge by changing the \"name\" column title to \"company.\"."
   ]
  },
  {
   "cell_type": "code",
   "execution_count": 4,
   "id": "75cece68-d8b8-4c0d-9a83-28a57a8aa657",
   "metadata": {},
   "outputs": [
    {
     "data": {
      "text/html": [
       "<div>\n",
       "<style scoped>\n",
       "    .dataframe tbody tr th:only-of-type {\n",
       "        vertical-align: middle;\n",
       "    }\n",
       "\n",
       "    .dataframe tbody tr th {\n",
       "        vertical-align: top;\n",
       "    }\n",
       "\n",
       "    .dataframe thead th {\n",
       "        text-align: right;\n",
       "    }\n",
       "</style>\n",
       "<table border=\"1\" class=\"dataframe\">\n",
       "  <thead>\n",
       "    <tr style=\"text-align: right;\">\n",
       "      <th></th>\n",
       "      <th>id</th>\n",
       "      <th>rank</th>\n",
       "      <th>company</th>\n",
       "      <th>employees</th>\n",
       "      <th>previousrank</th>\n",
       "      <th>revenues</th>\n",
       "      <th>revenuechange</th>\n",
       "      <th>profits</th>\n",
       "      <th>profitschange</th>\n",
       "      <th>assets</th>\n",
       "      <th>marketvalue</th>\n",
       "    </tr>\n",
       "  </thead>\n",
       "  <tbody>\n",
       "    <tr>\n",
       "      <th>0</th>\n",
       "      <td>2</td>\n",
       "      <td>1</td>\n",
       "      <td>Walmart</td>\n",
       "      <td>2,300,000</td>\n",
       "      <td>1.0</td>\n",
       "      <td>$485,873</td>\n",
       "      <td>0.8%</td>\n",
       "      <td>$13,643.0</td>\n",
       "      <td>-7.2%</td>\n",
       "      <td>$198,825</td>\n",
       "      <td>$218,619</td>\n",
       "    </tr>\n",
       "    <tr>\n",
       "      <th>1</th>\n",
       "      <td>3</td>\n",
       "      <td>2</td>\n",
       "      <td>Berkshire Hathaway</td>\n",
       "      <td>367,700</td>\n",
       "      <td>4.0</td>\n",
       "      <td>$223,604</td>\n",
       "      <td>6.1%</td>\n",
       "      <td>$24,074.0</td>\n",
       "      <td>0.0%</td>\n",
       "      <td>$620,854</td>\n",
       "      <td>$411,035</td>\n",
       "    </tr>\n",
       "    <tr>\n",
       "      <th>2</th>\n",
       "      <td>4</td>\n",
       "      <td>3</td>\n",
       "      <td>Apple</td>\n",
       "      <td>116,000</td>\n",
       "      <td>3.0</td>\n",
       "      <td>$215,639</td>\n",
       "      <td>-7.7%</td>\n",
       "      <td>$45,687.0</td>\n",
       "      <td>-14.4%</td>\n",
       "      <td>$321,686</td>\n",
       "      <td>$753,718</td>\n",
       "    </tr>\n",
       "    <tr>\n",
       "      <th>3</th>\n",
       "      <td>5</td>\n",
       "      <td>4</td>\n",
       "      <td>Exxon Mobil</td>\n",
       "      <td>72,700</td>\n",
       "      <td>2.0</td>\n",
       "      <td>$205,004</td>\n",
       "      <td>-16.7%</td>\n",
       "      <td>$7,840.0</td>\n",
       "      <td>-51.5%</td>\n",
       "      <td>$330,314</td>\n",
       "      <td>$340,056</td>\n",
       "    </tr>\n",
       "    <tr>\n",
       "      <th>4</th>\n",
       "      <td>6</td>\n",
       "      <td>5</td>\n",
       "      <td>McKesson</td>\n",
       "      <td>68,000</td>\n",
       "      <td>5.0</td>\n",
       "      <td>$192,487</td>\n",
       "      <td>6.2%</td>\n",
       "      <td>$2,258.0</td>\n",
       "      <td>53.0%</td>\n",
       "      <td>$56,563</td>\n",
       "      <td>$31,439</td>\n",
       "    </tr>\n",
       "  </tbody>\n",
       "</table>\n",
       "</div>"
      ],
      "text/plain": [
       "   id  rank             company  employees  previousrank  revenues  \\\n",
       "0   2     1             Walmart  2,300,000           1.0  $485,873   \n",
       "1   3     2  Berkshire Hathaway    367,700           4.0  $223,604   \n",
       "2   4     3               Apple    116,000           3.0  $215,639   \n",
       "3   5     4         Exxon Mobil     72,700           2.0  $205,004   \n",
       "4   6     5            McKesson     68,000           5.0  $192,487   \n",
       "\n",
       "  revenuechange     profits profitschange    assets marketvalue  \n",
       "0          0.8%  $13,643.0          -7.2%  $198,825    $218,619  \n",
       "1          6.1%  $24,074.0           0.0%  $620,854    $411,035  \n",
       "2         -7.7%  $45,687.0         -14.4%  $321,686    $753,718  \n",
       "3        -16.7%   $7,840.0         -51.5%  $330,314    $340,056  \n",
       "4          6.2%   $2,258.0          53.0%   $56,563     $31,439  "
      ]
     },
     "execution_count": 4,
     "metadata": {},
     "output_type": "execute_result"
    }
   ],
   "source": [
    "Fortune500 = pd.read_csv(\"F500.csv\", delimiter = \";\")\n",
    "Fortune500.rename(columns={\"name\": \"company\"}, inplace = True)\n",
    "Fortune500.head()"
   ]
  },
  {
   "cell_type": "markdown",
   "id": "de588953-ad17-48be-b451-c824d54fe8d8",
   "metadata": {},
   "source": [
    "Read the TopCompanies.xlsx data. This data was provided in another DAQA course using Tableau. Now, I'd like to use Python to do the visualization."
   ]
  },
  {
   "cell_type": "code",
   "execution_count": 7,
   "id": "7ffdc87d-4489-4cfe-9d64-d88031d778d4",
   "metadata": {},
   "outputs": [
    {
     "data": {
      "text/html": [
       "<div>\n",
       "<style scoped>\n",
       "    .dataframe tbody tr th:only-of-type {\n",
       "        vertical-align: middle;\n",
       "    }\n",
       "\n",
       "    .dataframe tbody tr th {\n",
       "        vertical-align: top;\n",
       "    }\n",
       "\n",
       "    .dataframe thead th {\n",
       "        text-align: right;\n",
       "    }\n",
       "</style>\n",
       "<table border=\"1\" class=\"dataframe\">\n",
       "  <thead>\n",
       "    <tr style=\"text-align: right;\">\n",
       "      <th></th>\n",
       "      <th>longitude</th>\n",
       "      <th>latitude</th>\n",
       "      <th>company</th>\n",
       "      <th>location</th>\n",
       "      <th>industry</th>\n",
       "      <th>state</th>\n",
       "      <th>city</th>\n",
       "    </tr>\n",
       "  </thead>\n",
       "  <tbody>\n",
       "    <tr>\n",
       "      <th>0</th>\n",
       "      <td>-94.2088</td>\n",
       "      <td>36.3729</td>\n",
       "      <td>Walmart</td>\n",
       "      <td>Bentonville, AR</td>\n",
       "      <td>General Merchandisers</td>\n",
       "      <td>AR</td>\n",
       "      <td>Bentonville</td>\n",
       "    </tr>\n",
       "    <tr>\n",
       "      <th>1</th>\n",
       "      <td>-96.9489</td>\n",
       "      <td>32.8140</td>\n",
       "      <td>Exxon Mobil</td>\n",
       "      <td>Irving, TX</td>\n",
       "      <td>Petroleum Refining</td>\n",
       "      <td>TX</td>\n",
       "      <td>Irving</td>\n",
       "    </tr>\n",
       "    <tr>\n",
       "      <th>2</th>\n",
       "      <td>-121.9780</td>\n",
       "      <td>37.7799</td>\n",
       "      <td>Chevron</td>\n",
       "      <td>San Ramon, CA</td>\n",
       "      <td>Petroleum Refining</td>\n",
       "      <td>CA</td>\n",
       "      <td>San Ramon</td>\n",
       "    </tr>\n",
       "    <tr>\n",
       "      <th>3</th>\n",
       "      <td>-95.9980</td>\n",
       "      <td>41.2524</td>\n",
       "      <td>Berkshire Hathaway</td>\n",
       "      <td>Omaha, NE</td>\n",
       "      <td>Insurance: Property and Casualty (Stock)</td>\n",
       "      <td>NE</td>\n",
       "      <td>Omaha</td>\n",
       "    </tr>\n",
       "    <tr>\n",
       "      <th>4</th>\n",
       "      <td>-122.0320</td>\n",
       "      <td>37.3230</td>\n",
       "      <td>Apple</td>\n",
       "      <td>Cupertino, CA</td>\n",
       "      <td>Computers, Office Equipment</td>\n",
       "      <td>CA</td>\n",
       "      <td>Cupertino</td>\n",
       "    </tr>\n",
       "  </tbody>\n",
       "</table>\n",
       "</div>"
      ],
      "text/plain": [
       "   longitude  latitude             company         location  \\\n",
       "0   -94.2088   36.3729             Walmart  Bentonville, AR   \n",
       "1   -96.9489   32.8140         Exxon Mobil       Irving, TX   \n",
       "2  -121.9780   37.7799             Chevron    San Ramon, CA   \n",
       "3   -95.9980   41.2524  Berkshire Hathaway        Omaha, NE   \n",
       "4  -122.0320   37.3230               Apple    Cupertino, CA   \n",
       "\n",
       "                                   industry state         city  \n",
       "0                     General Merchandisers    AR  Bentonville  \n",
       "1                        Petroleum Refining    TX       Irving  \n",
       "2                        Petroleum Refining    CA    San Ramon  \n",
       "3  Insurance: Property and Casualty (Stock)    NE        Omaha  \n",
       "4               Computers, Office Equipment    CA    Cupertino  "
      ]
     },
     "execution_count": 7,
     "metadata": {},
     "output_type": "execute_result"
    }
   ],
   "source": [
    "TopComp_Geo = pd.read_excel('TopCompanies.xlsx')\n",
    "TopComp_Geo.head()"
   ]
  },
  {
   "cell_type": "markdown",
   "id": "943b8cf0-8118-4511-9fbb-1908d777e4e5",
   "metadata": {},
   "source": [
    "Merge the two datasets on company using inner join."
   ]
  },
  {
   "cell_type": "code",
   "execution_count": 10,
   "id": "601daa47-8752-47b7-9a14-a1c2db15a8c1",
   "metadata": {},
   "outputs": [
    {
     "data": {
      "text/html": [
       "<div>\n",
       "<style scoped>\n",
       "    .dataframe tbody tr th:only-of-type {\n",
       "        vertical-align: middle;\n",
       "    }\n",
       "\n",
       "    .dataframe tbody tr th {\n",
       "        vertical-align: top;\n",
       "    }\n",
       "\n",
       "    .dataframe thead th {\n",
       "        text-align: right;\n",
       "    }\n",
       "</style>\n",
       "<table border=\"1\" class=\"dataframe\">\n",
       "  <thead>\n",
       "    <tr style=\"text-align: right;\">\n",
       "      <th></th>\n",
       "      <th>id</th>\n",
       "      <th>rank</th>\n",
       "      <th>company</th>\n",
       "      <th>employees</th>\n",
       "      <th>previousrank</th>\n",
       "      <th>revenues</th>\n",
       "      <th>revenuechange</th>\n",
       "      <th>profits</th>\n",
       "      <th>profitschange</th>\n",
       "      <th>assets</th>\n",
       "      <th>marketvalue</th>\n",
       "      <th>longitude</th>\n",
       "      <th>latitude</th>\n",
       "      <th>location</th>\n",
       "      <th>industry</th>\n",
       "      <th>state</th>\n",
       "      <th>city</th>\n",
       "    </tr>\n",
       "  </thead>\n",
       "  <tbody>\n",
       "    <tr>\n",
       "      <th>0</th>\n",
       "      <td>2</td>\n",
       "      <td>1</td>\n",
       "      <td>Walmart</td>\n",
       "      <td>2,300,000</td>\n",
       "      <td>1.0</td>\n",
       "      <td>$485,873</td>\n",
       "      <td>0.8%</td>\n",
       "      <td>$13,643.0</td>\n",
       "      <td>-7.2%</td>\n",
       "      <td>$198,825</td>\n",
       "      <td>$218,619</td>\n",
       "      <td>-94.2088</td>\n",
       "      <td>36.3729</td>\n",
       "      <td>Bentonville, AR</td>\n",
       "      <td>General Merchandisers</td>\n",
       "      <td>AR</td>\n",
       "      <td>Bentonville</td>\n",
       "    </tr>\n",
       "    <tr>\n",
       "      <th>1</th>\n",
       "      <td>3</td>\n",
       "      <td>2</td>\n",
       "      <td>Berkshire Hathaway</td>\n",
       "      <td>367,700</td>\n",
       "      <td>4.0</td>\n",
       "      <td>$223,604</td>\n",
       "      <td>6.1%</td>\n",
       "      <td>$24,074.0</td>\n",
       "      <td>0.0%</td>\n",
       "      <td>$620,854</td>\n",
       "      <td>$411,035</td>\n",
       "      <td>-95.9980</td>\n",
       "      <td>41.2524</td>\n",
       "      <td>Omaha, NE</td>\n",
       "      <td>Insurance: Property and Casualty (Stock)</td>\n",
       "      <td>NE</td>\n",
       "      <td>Omaha</td>\n",
       "    </tr>\n",
       "    <tr>\n",
       "      <th>2</th>\n",
       "      <td>4</td>\n",
       "      <td>3</td>\n",
       "      <td>Apple</td>\n",
       "      <td>116,000</td>\n",
       "      <td>3.0</td>\n",
       "      <td>$215,639</td>\n",
       "      <td>-7.7%</td>\n",
       "      <td>$45,687.0</td>\n",
       "      <td>-14.4%</td>\n",
       "      <td>$321,686</td>\n",
       "      <td>$753,718</td>\n",
       "      <td>-122.0320</td>\n",
       "      <td>37.3230</td>\n",
       "      <td>Cupertino, CA</td>\n",
       "      <td>Computers, Office Equipment</td>\n",
       "      <td>CA</td>\n",
       "      <td>Cupertino</td>\n",
       "    </tr>\n",
       "    <tr>\n",
       "      <th>3</th>\n",
       "      <td>5</td>\n",
       "      <td>4</td>\n",
       "      <td>Exxon Mobil</td>\n",
       "      <td>72,700</td>\n",
       "      <td>2.0</td>\n",
       "      <td>$205,004</td>\n",
       "      <td>-16.7%</td>\n",
       "      <td>$7,840.0</td>\n",
       "      <td>-51.5%</td>\n",
       "      <td>$330,314</td>\n",
       "      <td>$340,056</td>\n",
       "      <td>-96.9489</td>\n",
       "      <td>32.8140</td>\n",
       "      <td>Irving, TX</td>\n",
       "      <td>Petroleum Refining</td>\n",
       "      <td>TX</td>\n",
       "      <td>Irving</td>\n",
       "    </tr>\n",
       "    <tr>\n",
       "      <th>4</th>\n",
       "      <td>6</td>\n",
       "      <td>5</td>\n",
       "      <td>McKesson</td>\n",
       "      <td>68,000</td>\n",
       "      <td>5.0</td>\n",
       "      <td>$192,487</td>\n",
       "      <td>6.2%</td>\n",
       "      <td>$2,258.0</td>\n",
       "      <td>53.0%</td>\n",
       "      <td>$56,563</td>\n",
       "      <td>$31,439</td>\n",
       "      <td>-122.4190</td>\n",
       "      <td>37.7749</td>\n",
       "      <td>San Francisco, CA</td>\n",
       "      <td>Wholesalers: Health Care</td>\n",
       "      <td>CA</td>\n",
       "      <td>San Francisco</td>\n",
       "    </tr>\n",
       "    <tr>\n",
       "      <th>...</th>\n",
       "      <td>...</td>\n",
       "      <td>...</td>\n",
       "      <td>...</td>\n",
       "      <td>...</td>\n",
       "      <td>...</td>\n",
       "      <td>...</td>\n",
       "      <td>...</td>\n",
       "      <td>...</td>\n",
       "      <td>...</td>\n",
       "      <td>...</td>\n",
       "      <td>...</td>\n",
       "      <td>...</td>\n",
       "      <td>...</td>\n",
       "      <td>...</td>\n",
       "      <td>...</td>\n",
       "      <td>...</td>\n",
       "      <td>...</td>\n",
       "    </tr>\n",
       "    <tr>\n",
       "      <th>469</th>\n",
       "      <td>496</td>\n",
       "      <td>495</td>\n",
       "      <td>Big Lots</td>\n",
       "      <td>23,150</td>\n",
       "      <td>495.0</td>\n",
       "      <td>$5,200</td>\n",
       "      <td>0.2%</td>\n",
       "      <td>$152.8</td>\n",
       "      <td>7.0%</td>\n",
       "      <td>$1,608</td>\n",
       "      <td>$2,180</td>\n",
       "      <td>-82.9988</td>\n",
       "      <td>39.9612</td>\n",
       "      <td>Columbus, OH</td>\n",
       "      <td>Specialty Retailers: Other</td>\n",
       "      <td>OH</td>\n",
       "      <td>Columbus</td>\n",
       "    </tr>\n",
       "    <tr>\n",
       "      <th>470</th>\n",
       "      <td>497</td>\n",
       "      <td>496</td>\n",
       "      <td>Michaels Cos.</td>\n",
       "      <td>31,000</td>\n",
       "      <td>517.0</td>\n",
       "      <td>$5,197</td>\n",
       "      <td>5.8%</td>\n",
       "      <td>$378.2</td>\n",
       "      <td>4.2%</td>\n",
       "      <td>$2,148</td>\n",
       "      <td>$4,229</td>\n",
       "      <td>-96.9489</td>\n",
       "      <td>32.8140</td>\n",
       "      <td>Irving, TX</td>\n",
       "      <td>Specialty Retailers: Other</td>\n",
       "      <td>TX</td>\n",
       "      <td>Irving</td>\n",
       "    </tr>\n",
       "    <tr>\n",
       "      <th>471</th>\n",
       "      <td>498</td>\n",
       "      <td>497</td>\n",
       "      <td>Toll Brothers</td>\n",
       "      <td>4,200</td>\n",
       "      <td>576.0</td>\n",
       "      <td>$5,170</td>\n",
       "      <td>23.9%</td>\n",
       "      <td>$382.1</td>\n",
       "      <td>5.2%</td>\n",
       "      <td>$9,737</td>\n",
       "      <td>$5,872</td>\n",
       "      <td>-75.1285</td>\n",
       "      <td>40.1784</td>\n",
       "      <td>Horsham, PA</td>\n",
       "      <td>Homebuilders</td>\n",
       "      <td>PA</td>\n",
       "      <td>Horsham</td>\n",
       "    </tr>\n",
       "    <tr>\n",
       "      <th>472</th>\n",
       "      <td>499</td>\n",
       "      <td>498</td>\n",
       "      <td>Yahoo</td>\n",
       "      <td>8,500</td>\n",
       "      <td>513.0</td>\n",
       "      <td>$5,169</td>\n",
       "      <td>4.0%</td>\n",
       "      <td>-$214.3</td>\n",
       "      <td>-</td>\n",
       "      <td>$48,083</td>\n",
       "      <td>$44,391</td>\n",
       "      <td>-122.0360</td>\n",
       "      <td>37.3688</td>\n",
       "      <td>Sunnyvale, CA</td>\n",
       "      <td>Internet Services and Retailing</td>\n",
       "      <td>CA</td>\n",
       "      <td>Sunnyvale</td>\n",
       "    </tr>\n",
       "    <tr>\n",
       "      <th>473</th>\n",
       "      <td>501</td>\n",
       "      <td>500</td>\n",
       "      <td>ABM Industries</td>\n",
       "      <td>110,000</td>\n",
       "      <td>485.0</td>\n",
       "      <td>$5,145</td>\n",
       "      <td>-2.8%</td>\n",
       "      <td>$57.2</td>\n",
       "      <td>-25.0%</td>\n",
       "      <td>$2,281</td>\n",
       "      <td>$2,428</td>\n",
       "      <td>-74.0059</td>\n",
       "      <td>40.7128</td>\n",
       "      <td>New York, NY</td>\n",
       "      <td>Diversified Outsourcing Services</td>\n",
       "      <td>NY</td>\n",
       "      <td>New York</td>\n",
       "    </tr>\n",
       "  </tbody>\n",
       "</table>\n",
       "<p>474 rows × 17 columns</p>\n",
       "</div>"
      ],
      "text/plain": [
       "      id  rank             company  employees  previousrank  revenues  \\\n",
       "0      2     1             Walmart  2,300,000           1.0  $485,873   \n",
       "1      3     2  Berkshire Hathaway    367,700           4.0  $223,604   \n",
       "2      4     3               Apple    116,000           3.0  $215,639   \n",
       "3      5     4         Exxon Mobil     72,700           2.0  $205,004   \n",
       "4      6     5            McKesson     68,000           5.0  $192,487   \n",
       "..   ...   ...                 ...        ...           ...       ...   \n",
       "469  496   495            Big Lots     23,150         495.0    $5,200   \n",
       "470  497   496       Michaels Cos.     31,000         517.0    $5,197   \n",
       "471  498   497       Toll Brothers      4,200         576.0    $5,170   \n",
       "472  499   498               Yahoo      8,500         513.0    $5,169   \n",
       "473  501   500      ABM Industries    110,000         485.0    $5,145   \n",
       "\n",
       "    revenuechange     profits profitschange    assets marketvalue  longitude  \\\n",
       "0            0.8%  $13,643.0          -7.2%  $198,825    $218,619   -94.2088   \n",
       "1            6.1%  $24,074.0           0.0%  $620,854    $411,035   -95.9980   \n",
       "2           -7.7%  $45,687.0         -14.4%  $321,686    $753,718  -122.0320   \n",
       "3          -16.7%   $7,840.0         -51.5%  $330,314    $340,056   -96.9489   \n",
       "4            6.2%   $2,258.0          53.0%   $56,563     $31,439  -122.4190   \n",
       "..            ...         ...           ...       ...         ...        ...   \n",
       "469          0.2%     $152.8           7.0%    $1,608      $2,180   -82.9988   \n",
       "470          5.8%     $378.2           4.2%    $2,148      $4,229   -96.9489   \n",
       "471         23.9%     $382.1           5.2%    $9,737      $5,872   -75.1285   \n",
       "472          4.0%    -$214.3              -   $48,083     $44,391  -122.0360   \n",
       "473         -2.8%      $57.2         -25.0%    $2,281      $2,428   -74.0059   \n",
       "\n",
       "     latitude           location                                  industry  \\\n",
       "0     36.3729    Bentonville, AR                     General Merchandisers   \n",
       "1     41.2524          Omaha, NE  Insurance: Property and Casualty (Stock)   \n",
       "2     37.3230      Cupertino, CA               Computers, Office Equipment   \n",
       "3     32.8140         Irving, TX                        Petroleum Refining   \n",
       "4     37.7749  San Francisco, CA                  Wholesalers: Health Care   \n",
       "..        ...                ...                                       ...   \n",
       "469   39.9612       Columbus, OH                Specialty Retailers: Other   \n",
       "470   32.8140         Irving, TX                Specialty Retailers: Other   \n",
       "471   40.1784        Horsham, PA                              Homebuilders   \n",
       "472   37.3688      Sunnyvale, CA           Internet Services and Retailing   \n",
       "473   40.7128       New York, NY          Diversified Outsourcing Services   \n",
       "\n",
       "    state           city  \n",
       "0      AR    Bentonville  \n",
       "1      NE          Omaha  \n",
       "2      CA      Cupertino  \n",
       "3      TX         Irving  \n",
       "4      CA  San Francisco  \n",
       "..    ...            ...  \n",
       "469    OH       Columbus  \n",
       "470    TX         Irving  \n",
       "471    PA        Horsham  \n",
       "472    CA      Sunnyvale  \n",
       "473    NY       New York  \n",
       "\n",
       "[474 rows x 17 columns]"
      ]
     },
     "execution_count": 10,
     "metadata": {},
     "output_type": "execute_result"
    }
   ],
   "source": [
    "df = pd.merge(Fortune500, TopComp_Geo, on = \"company\", how = \"inner\")\n",
    "df"
   ]
  },
  {
   "cell_type": "markdown",
   "id": "98a7747c-2957-425e-8fc2-d60e307fe7f8",
   "metadata": {},
   "source": [
    "I want to filter the companies with the top 10 market values. Here’s the process:\n",
    "1.\tClean the marketvalue column by removing irrelevant symbols, converting the data type to float, and replacing any NaN values with 0;\n",
    "2.\tSort the data in descending order by market value and extract the top 10 entries;\n",
    "3.\tRetain only the columns that are relevant to my analysis."
   ]
  },
  {
   "cell_type": "code",
   "execution_count": 13,
   "id": "0cf8321f-4279-47f3-8550-63c72b740a94",
   "metadata": {},
   "outputs": [
    {
     "data": {
      "text/html": [
       "<div>\n",
       "<style scoped>\n",
       "    .dataframe tbody tr th:only-of-type {\n",
       "        vertical-align: middle;\n",
       "    }\n",
       "\n",
       "    .dataframe tbody tr th {\n",
       "        vertical-align: top;\n",
       "    }\n",
       "\n",
       "    .dataframe thead th {\n",
       "        text-align: right;\n",
       "    }\n",
       "</style>\n",
       "<table border=\"1\" class=\"dataframe\">\n",
       "  <thead>\n",
       "    <tr style=\"text-align: right;\">\n",
       "      <th></th>\n",
       "      <th>id</th>\n",
       "      <th>rank</th>\n",
       "      <th>company</th>\n",
       "      <th>marketvalue</th>\n",
       "      <th>longitude</th>\n",
       "      <th>latitude</th>\n",
       "      <th>location</th>\n",
       "      <th>industry</th>\n",
       "    </tr>\n",
       "  </thead>\n",
       "  <tbody>\n",
       "    <tr>\n",
       "      <th>2</th>\n",
       "      <td>4</td>\n",
       "      <td>3</td>\n",
       "      <td>Apple</td>\n",
       "      <td>753718.0</td>\n",
       "      <td>-122.0320</td>\n",
       "      <td>37.3230</td>\n",
       "      <td>Cupertino, CA</td>\n",
       "      <td>Computers, Office Equipment</td>\n",
       "    </tr>\n",
       "    <tr>\n",
       "      <th>25</th>\n",
       "      <td>28</td>\n",
       "      <td>27</td>\n",
       "      <td>Alphabet</td>\n",
       "      <td>579426.0</td>\n",
       "      <td>-122.0840</td>\n",
       "      <td>37.3861</td>\n",
       "      <td>Mountain View, CA</td>\n",
       "      <td>Internet Services and Retailing</td>\n",
       "    </tr>\n",
       "    <tr>\n",
       "      <th>26</th>\n",
       "      <td>29</td>\n",
       "      <td>28</td>\n",
       "      <td>Microsoft</td>\n",
       "      <td>508935.0</td>\n",
       "      <td>-122.1220</td>\n",
       "      <td>47.6740</td>\n",
       "      <td>Redmond, WA</td>\n",
       "      <td>Computer Software</td>\n",
       "    </tr>\n",
       "    <tr>\n",
       "      <th>11</th>\n",
       "      <td>13</td>\n",
       "      <td>12</td>\n",
       "      <td>Amazon.com</td>\n",
       "      <td>423031.0</td>\n",
       "      <td>-122.3320</td>\n",
       "      <td>47.6062</td>\n",
       "      <td>Seattle, WA</td>\n",
       "      <td>Internet Services and Retailing</td>\n",
       "    </tr>\n",
       "    <tr>\n",
       "      <th>1</th>\n",
       "      <td>3</td>\n",
       "      <td>2</td>\n",
       "      <td>Berkshire Hathaway</td>\n",
       "      <td>411035.0</td>\n",
       "      <td>-95.9980</td>\n",
       "      <td>41.2524</td>\n",
       "      <td>Omaha, NE</td>\n",
       "      <td>Insurance: Property and Casualty (Stock)</td>\n",
       "    </tr>\n",
       "    <tr>\n",
       "      <th>93</th>\n",
       "      <td>99</td>\n",
       "      <td>98</td>\n",
       "      <td>Facebook</td>\n",
       "      <td>410522.0</td>\n",
       "      <td>-122.1820</td>\n",
       "      <td>37.4530</td>\n",
       "      <td>Menlo Park, CA</td>\n",
       "      <td>Internet Services and Retailing</td>\n",
       "    </tr>\n",
       "    <tr>\n",
       "      <th>3</th>\n",
       "      <td>5</td>\n",
       "      <td>4</td>\n",
       "      <td>Exxon Mobil</td>\n",
       "      <td>340056.0</td>\n",
       "      <td>-96.9489</td>\n",
       "      <td>32.8140</td>\n",
       "      <td>Irving, TX</td>\n",
       "      <td>Petroleum Refining</td>\n",
       "    </tr>\n",
       "    <tr>\n",
       "      <th>33</th>\n",
       "      <td>36</td>\n",
       "      <td>35</td>\n",
       "      <td>Johnson &amp; Johnson</td>\n",
       "      <td>337642.0</td>\n",
       "      <td>-74.4518</td>\n",
       "      <td>40.4862</td>\n",
       "      <td>New Brunswick, NJ</td>\n",
       "      <td>Pharmaceuticals</td>\n",
       "    </tr>\n",
       "    <tr>\n",
       "      <th>19</th>\n",
       "      <td>22</td>\n",
       "      <td>21</td>\n",
       "      <td>J.P. Morgan Chase</td>\n",
       "      <td>313761.0</td>\n",
       "      <td>-74.0059</td>\n",
       "      <td>40.7128</td>\n",
       "      <td>New York, NY</td>\n",
       "      <td>Commercial Banks</td>\n",
       "    </tr>\n",
       "    <tr>\n",
       "      <th>23</th>\n",
       "      <td>26</td>\n",
       "      <td>25</td>\n",
       "      <td>Wells Fargo</td>\n",
       "      <td>278516.0</td>\n",
       "      <td>-122.4190</td>\n",
       "      <td>37.7749</td>\n",
       "      <td>San Francisco, CA</td>\n",
       "      <td>Commercial Banks</td>\n",
       "    </tr>\n",
       "  </tbody>\n",
       "</table>\n",
       "</div>"
      ],
      "text/plain": [
       "    id  rank             company  marketvalue  longitude  latitude  \\\n",
       "2    4     3               Apple     753718.0  -122.0320   37.3230   \n",
       "25  28    27            Alphabet     579426.0  -122.0840   37.3861   \n",
       "26  29    28           Microsoft     508935.0  -122.1220   47.6740   \n",
       "11  13    12          Amazon.com     423031.0  -122.3320   47.6062   \n",
       "1    3     2  Berkshire Hathaway     411035.0   -95.9980   41.2524   \n",
       "93  99    98            Facebook     410522.0  -122.1820   37.4530   \n",
       "3    5     4         Exxon Mobil     340056.0   -96.9489   32.8140   \n",
       "33  36    35   Johnson & Johnson     337642.0   -74.4518   40.4862   \n",
       "19  22    21   J.P. Morgan Chase     313761.0   -74.0059   40.7128   \n",
       "23  26    25         Wells Fargo     278516.0  -122.4190   37.7749   \n",
       "\n",
       "             location                                  industry  \n",
       "2       Cupertino, CA               Computers, Office Equipment  \n",
       "25  Mountain View, CA           Internet Services and Retailing  \n",
       "26        Redmond, WA                         Computer Software  \n",
       "11        Seattle, WA           Internet Services and Retailing  \n",
       "1           Omaha, NE  Insurance: Property and Casualty (Stock)  \n",
       "93     Menlo Park, CA           Internet Services and Retailing  \n",
       "3          Irving, TX                        Petroleum Refining  \n",
       "33  New Brunswick, NJ                           Pharmaceuticals  \n",
       "19       New York, NY                          Commercial Banks  \n",
       "23  San Francisco, CA                          Commercial Banks  "
      ]
     },
     "execution_count": 13,
     "metadata": {},
     "output_type": "execute_result"
    }
   ],
   "source": [
    "df[\"marketvalue\"] = df[\"marketvalue\"].replace(r\"[\\$,]\", \"\", regex = True).replace(\"-\", None).astype(float)\n",
    "df[\"marketvalue\"] = df[\"marketvalue\"].fillna(0)\n",
    "\n",
    "df_top10_raw = df.sort_values(by = \"marketvalue\", ascending = False).head(10)\n",
    "df_top10 = df_top10_raw[[\"id\", \"rank\", \"company\", \"marketvalue\", \"longitude\", \"latitude\", \"location\", \"industry\"]]\n",
    "df_top10"
   ]
  },
  {
   "cell_type": "markdown",
   "id": "4b4caa60-d5d6-441a-b889-9b65b237390d",
   "metadata": {},
   "source": [
    "Create a geographic scatter plot of the table above. Map each company’s location using latitude and longitude, with dot size and color representing the market value. Additional hover data includes company name, market value, location, and industry is displayed."
   ]
  },
  {
   "cell_type": "code",
   "execution_count": 16,
   "id": "e15fa1d6-5468-48fc-ab89-7e699f3962aa",
   "metadata": {},
   "outputs": [
    {
     "data": {
      "text/html": [
       "        <script type=\"text/javascript\">\n",
       "        window.PlotlyConfig = {MathJaxConfig: 'local'};\n",
       "        if (window.MathJax && window.MathJax.Hub && window.MathJax.Hub.Config) {window.MathJax.Hub.Config({SVG: {font: \"STIX-Web\"}});}\n",
       "        if (typeof require !== 'undefined') {\n",
       "        require.undef(\"plotly\");\n",
       "        requirejs.config({\n",
       "            paths: {\n",
       "                'plotly': ['https://cdn.plot.ly/plotly-2.35.2.min']\n",
       "            }\n",
       "        });\n",
       "        require(['plotly'], function(Plotly) {\n",
       "            window._Plotly = Plotly;\n",
       "        });\n",
       "        }\n",
       "        </script>\n",
       "        "
      ]
     },
     "metadata": {},
     "output_type": "display_data"
    },
    {
     "data": {
      "application/vnd.plotly.v1+json": {
       "config": {
        "plotlyServerURL": "https://plot.ly"
       },
       "data": [
        {
         "customdata": [
          [
           37.323,
           -122.032,
           753718,
           "Cupertino, CA",
           "Computers, Office Equipment"
          ],
          [
           37.3861,
           -122.084,
           579426,
           "Mountain View, CA",
           "Internet Services and Retailing"
          ],
          [
           47.674,
           -122.122,
           508935,
           "Redmond, WA",
           "Computer Software"
          ],
          [
           47.6062,
           -122.332,
           423031,
           "Seattle, WA",
           "Internet Services and Retailing"
          ],
          [
           41.2524,
           -95.998,
           411035,
           "Omaha, NE",
           "Insurance: Property and Casualty (Stock)"
          ],
          [
           37.453,
           -122.182,
           410522,
           "Menlo Park, CA",
           "Internet Services and Retailing"
          ],
          [
           32.814,
           -96.9489,
           340056,
           "Irving, TX",
           "Petroleum Refining"
          ],
          [
           40.4862,
           -74.4518,
           337642,
           "New Brunswick, NJ",
           "Pharmaceuticals"
          ],
          [
           40.7128,
           -74.0059,
           313761,
           "New York, NY",
           "Commercial Banks"
          ],
          [
           37.7749,
           -122.419,
           278516,
           "San Francisco, CA",
           "Commercial Banks"
          ]
         ],
         "geo": "geo",
         "hovertemplate": "<b>%{hovertext}</b><br><br>marketvalue=%{marker.color}<br>location=%{customdata[3]}<br>industry=%{customdata[4]}<extra></extra>",
         "hovertext": [
          "Apple",
          "Alphabet",
          "Microsoft",
          "Amazon.com",
          "Berkshire Hathaway",
          "Facebook",
          "Exxon Mobil",
          "Johnson & Johnson",
          "J.P. Morgan Chase",
          "Wells Fargo"
         ],
         "lat": [
          37.323,
          37.3861,
          47.674,
          47.6062,
          41.2524,
          37.453,
          32.814,
          40.4862,
          40.7128,
          37.7749
         ],
         "legendgroup": "",
         "lon": [
          -122.032,
          -122.084,
          -122.122,
          -122.332,
          -95.998,
          -122.182,
          -96.9489,
          -74.4518,
          -74.0059,
          -122.419
         ],
         "marker": {
          "color": [
           753718,
           579426,
           508935,
           423031,
           411035,
           410522,
           340056,
           337642,
           313761,
           278516
          ],
          "coloraxis": "coloraxis",
          "opacity": 0.7,
          "size": [
           753718,
           579426,
           508935,
           423031,
           411035,
           410522,
           340056,
           337642,
           313761,
           278516
          ],
          "sizemode": "area",
          "sizeref": 7537.18,
          "symbol": "circle"
         },
         "mode": "markers",
         "name": "",
         "showlegend": false,
         "type": "scattergeo"
        }
       ],
       "layout": {
        "autosize": true,
        "coloraxis": {
         "colorbar": {
          "title": {
           "text": "marketvalue"
          }
         },
         "colorscale": [
          [
           0,
           "#0d0887"
          ],
          [
           0.1111111111111111,
           "#46039f"
          ],
          [
           0.2222222222222222,
           "#7201a8"
          ],
          [
           0.3333333333333333,
           "#9c179e"
          ],
          [
           0.4444444444444444,
           "#bd3786"
          ],
          [
           0.5555555555555556,
           "#d8576b"
          ],
          [
           0.6666666666666666,
           "#ed7953"
          ],
          [
           0.7777777777777778,
           "#fb9f3a"
          ],
          [
           0.8888888888888888,
           "#fdca26"
          ],
          [
           1,
           "#f0f921"
          ]
         ]
        },
        "geo": {
         "center": {},
         "domain": {
          "x": [
           0,
           1
          ],
          "y": [
           0,
           1
          ]
         },
         "scope": "usa"
        },
        "legend": {
         "itemsizing": "constant",
         "tracegroupgap": 0
        },
        "template": {
         "data": {
          "bar": [
           {
            "error_x": {
             "color": "#2a3f5f"
            },
            "error_y": {
             "color": "#2a3f5f"
            },
            "marker": {
             "line": {
              "color": "#E5ECF6",
              "width": 0.5
             },
             "pattern": {
              "fillmode": "overlay",
              "size": 10,
              "solidity": 0.2
             }
            },
            "type": "bar"
           }
          ],
          "barpolar": [
           {
            "marker": {
             "line": {
              "color": "#E5ECF6",
              "width": 0.5
             },
             "pattern": {
              "fillmode": "overlay",
              "size": 10,
              "solidity": 0.2
             }
            },
            "type": "barpolar"
           }
          ],
          "carpet": [
           {
            "aaxis": {
             "endlinecolor": "#2a3f5f",
             "gridcolor": "white",
             "linecolor": "white",
             "minorgridcolor": "white",
             "startlinecolor": "#2a3f5f"
            },
            "baxis": {
             "endlinecolor": "#2a3f5f",
             "gridcolor": "white",
             "linecolor": "white",
             "minorgridcolor": "white",
             "startlinecolor": "#2a3f5f"
            },
            "type": "carpet"
           }
          ],
          "choropleth": [
           {
            "colorbar": {
             "outlinewidth": 0,
             "ticks": ""
            },
            "type": "choropleth"
           }
          ],
          "contour": [
           {
            "colorbar": {
             "outlinewidth": 0,
             "ticks": ""
            },
            "colorscale": [
             [
              0,
              "#0d0887"
             ],
             [
              0.1111111111111111,
              "#46039f"
             ],
             [
              0.2222222222222222,
              "#7201a8"
             ],
             [
              0.3333333333333333,
              "#9c179e"
             ],
             [
              0.4444444444444444,
              "#bd3786"
             ],
             [
              0.5555555555555556,
              "#d8576b"
             ],
             [
              0.6666666666666666,
              "#ed7953"
             ],
             [
              0.7777777777777778,
              "#fb9f3a"
             ],
             [
              0.8888888888888888,
              "#fdca26"
             ],
             [
              1,
              "#f0f921"
             ]
            ],
            "type": "contour"
           }
          ],
          "contourcarpet": [
           {
            "colorbar": {
             "outlinewidth": 0,
             "ticks": ""
            },
            "type": "contourcarpet"
           }
          ],
          "heatmap": [
           {
            "colorbar": {
             "outlinewidth": 0,
             "ticks": ""
            },
            "colorscale": [
             [
              0,
              "#0d0887"
             ],
             [
              0.1111111111111111,
              "#46039f"
             ],
             [
              0.2222222222222222,
              "#7201a8"
             ],
             [
              0.3333333333333333,
              "#9c179e"
             ],
             [
              0.4444444444444444,
              "#bd3786"
             ],
             [
              0.5555555555555556,
              "#d8576b"
             ],
             [
              0.6666666666666666,
              "#ed7953"
             ],
             [
              0.7777777777777778,
              "#fb9f3a"
             ],
             [
              0.8888888888888888,
              "#fdca26"
             ],
             [
              1,
              "#f0f921"
             ]
            ],
            "type": "heatmap"
           }
          ],
          "heatmapgl": [
           {
            "colorbar": {
             "outlinewidth": 0,
             "ticks": ""
            },
            "colorscale": [
             [
              0,
              "#0d0887"
             ],
             [
              0.1111111111111111,
              "#46039f"
             ],
             [
              0.2222222222222222,
              "#7201a8"
             ],
             [
              0.3333333333333333,
              "#9c179e"
             ],
             [
              0.4444444444444444,
              "#bd3786"
             ],
             [
              0.5555555555555556,
              "#d8576b"
             ],
             [
              0.6666666666666666,
              "#ed7953"
             ],
             [
              0.7777777777777778,
              "#fb9f3a"
             ],
             [
              0.8888888888888888,
              "#fdca26"
             ],
             [
              1,
              "#f0f921"
             ]
            ],
            "type": "heatmapgl"
           }
          ],
          "histogram": [
           {
            "marker": {
             "pattern": {
              "fillmode": "overlay",
              "size": 10,
              "solidity": 0.2
             }
            },
            "type": "histogram"
           }
          ],
          "histogram2d": [
           {
            "colorbar": {
             "outlinewidth": 0,
             "ticks": ""
            },
            "colorscale": [
             [
              0,
              "#0d0887"
             ],
             [
              0.1111111111111111,
              "#46039f"
             ],
             [
              0.2222222222222222,
              "#7201a8"
             ],
             [
              0.3333333333333333,
              "#9c179e"
             ],
             [
              0.4444444444444444,
              "#bd3786"
             ],
             [
              0.5555555555555556,
              "#d8576b"
             ],
             [
              0.6666666666666666,
              "#ed7953"
             ],
             [
              0.7777777777777778,
              "#fb9f3a"
             ],
             [
              0.8888888888888888,
              "#fdca26"
             ],
             [
              1,
              "#f0f921"
             ]
            ],
            "type": "histogram2d"
           }
          ],
          "histogram2dcontour": [
           {
            "colorbar": {
             "outlinewidth": 0,
             "ticks": ""
            },
            "colorscale": [
             [
              0,
              "#0d0887"
             ],
             [
              0.1111111111111111,
              "#46039f"
             ],
             [
              0.2222222222222222,
              "#7201a8"
             ],
             [
              0.3333333333333333,
              "#9c179e"
             ],
             [
              0.4444444444444444,
              "#bd3786"
             ],
             [
              0.5555555555555556,
              "#d8576b"
             ],
             [
              0.6666666666666666,
              "#ed7953"
             ],
             [
              0.7777777777777778,
              "#fb9f3a"
             ],
             [
              0.8888888888888888,
              "#fdca26"
             ],
             [
              1,
              "#f0f921"
             ]
            ],
            "type": "histogram2dcontour"
           }
          ],
          "mesh3d": [
           {
            "colorbar": {
             "outlinewidth": 0,
             "ticks": ""
            },
            "type": "mesh3d"
           }
          ],
          "parcoords": [
           {
            "line": {
             "colorbar": {
              "outlinewidth": 0,
              "ticks": ""
             }
            },
            "type": "parcoords"
           }
          ],
          "pie": [
           {
            "automargin": true,
            "type": "pie"
           }
          ],
          "scatter": [
           {
            "fillpattern": {
             "fillmode": "overlay",
             "size": 10,
             "solidity": 0.2
            },
            "type": "scatter"
           }
          ],
          "scatter3d": [
           {
            "line": {
             "colorbar": {
              "outlinewidth": 0,
              "ticks": ""
             }
            },
            "marker": {
             "colorbar": {
              "outlinewidth": 0,
              "ticks": ""
             }
            },
            "type": "scatter3d"
           }
          ],
          "scattercarpet": [
           {
            "marker": {
             "colorbar": {
              "outlinewidth": 0,
              "ticks": ""
             }
            },
            "type": "scattercarpet"
           }
          ],
          "scattergeo": [
           {
            "marker": {
             "colorbar": {
              "outlinewidth": 0,
              "ticks": ""
             }
            },
            "type": "scattergeo"
           }
          ],
          "scattergl": [
           {
            "marker": {
             "colorbar": {
              "outlinewidth": 0,
              "ticks": ""
             }
            },
            "type": "scattergl"
           }
          ],
          "scattermapbox": [
           {
            "marker": {
             "colorbar": {
              "outlinewidth": 0,
              "ticks": ""
             }
            },
            "type": "scattermapbox"
           }
          ],
          "scatterpolar": [
           {
            "marker": {
             "colorbar": {
              "outlinewidth": 0,
              "ticks": ""
             }
            },
            "type": "scatterpolar"
           }
          ],
          "scatterpolargl": [
           {
            "marker": {
             "colorbar": {
              "outlinewidth": 0,
              "ticks": ""
             }
            },
            "type": "scatterpolargl"
           }
          ],
          "scatterternary": [
           {
            "marker": {
             "colorbar": {
              "outlinewidth": 0,
              "ticks": ""
             }
            },
            "type": "scatterternary"
           }
          ],
          "surface": [
           {
            "colorbar": {
             "outlinewidth": 0,
             "ticks": ""
            },
            "colorscale": [
             [
              0,
              "#0d0887"
             ],
             [
              0.1111111111111111,
              "#46039f"
             ],
             [
              0.2222222222222222,
              "#7201a8"
             ],
             [
              0.3333333333333333,
              "#9c179e"
             ],
             [
              0.4444444444444444,
              "#bd3786"
             ],
             [
              0.5555555555555556,
              "#d8576b"
             ],
             [
              0.6666666666666666,
              "#ed7953"
             ],
             [
              0.7777777777777778,
              "#fb9f3a"
             ],
             [
              0.8888888888888888,
              "#fdca26"
             ],
             [
              1,
              "#f0f921"
             ]
            ],
            "type": "surface"
           }
          ],
          "table": [
           {
            "cells": {
             "fill": {
              "color": "#EBF0F8"
             },
             "line": {
              "color": "white"
             }
            },
            "header": {
             "fill": {
              "color": "#C8D4E3"
             },
             "line": {
              "color": "white"
             }
            },
            "type": "table"
           }
          ]
         },
         "layout": {
          "annotationdefaults": {
           "arrowcolor": "#2a3f5f",
           "arrowhead": 0,
           "arrowwidth": 1
          },
          "autotypenumbers": "strict",
          "coloraxis": {
           "colorbar": {
            "outlinewidth": 0,
            "ticks": ""
           }
          },
          "colorscale": {
           "diverging": [
            [
             0,
             "#8e0152"
            ],
            [
             0.1,
             "#c51b7d"
            ],
            [
             0.2,
             "#de77ae"
            ],
            [
             0.3,
             "#f1b6da"
            ],
            [
             0.4,
             "#fde0ef"
            ],
            [
             0.5,
             "#f7f7f7"
            ],
            [
             0.6,
             "#e6f5d0"
            ],
            [
             0.7,
             "#b8e186"
            ],
            [
             0.8,
             "#7fbc41"
            ],
            [
             0.9,
             "#4d9221"
            ],
            [
             1,
             "#276419"
            ]
           ],
           "sequential": [
            [
             0,
             "#0d0887"
            ],
            [
             0.1111111111111111,
             "#46039f"
            ],
            [
             0.2222222222222222,
             "#7201a8"
            ],
            [
             0.3333333333333333,
             "#9c179e"
            ],
            [
             0.4444444444444444,
             "#bd3786"
            ],
            [
             0.5555555555555556,
             "#d8576b"
            ],
            [
             0.6666666666666666,
             "#ed7953"
            ],
            [
             0.7777777777777778,
             "#fb9f3a"
            ],
            [
             0.8888888888888888,
             "#fdca26"
            ],
            [
             1,
             "#f0f921"
            ]
           ],
           "sequentialminus": [
            [
             0,
             "#0d0887"
            ],
            [
             0.1111111111111111,
             "#46039f"
            ],
            [
             0.2222222222222222,
             "#7201a8"
            ],
            [
             0.3333333333333333,
             "#9c179e"
            ],
            [
             0.4444444444444444,
             "#bd3786"
            ],
            [
             0.5555555555555556,
             "#d8576b"
            ],
            [
             0.6666666666666666,
             "#ed7953"
            ],
            [
             0.7777777777777778,
             "#fb9f3a"
            ],
            [
             0.8888888888888888,
             "#fdca26"
            ],
            [
             1,
             "#f0f921"
            ]
           ]
          },
          "colorway": [
           "#636efa",
           "#EF553B",
           "#00cc96",
           "#ab63fa",
           "#FFA15A",
           "#19d3f3",
           "#FF6692",
           "#B6E880",
           "#FF97FF",
           "#FECB52"
          ],
          "font": {
           "color": "#2a3f5f"
          },
          "geo": {
           "bgcolor": "white",
           "lakecolor": "white",
           "landcolor": "#E5ECF6",
           "showlakes": true,
           "showland": true,
           "subunitcolor": "white"
          },
          "hoverlabel": {
           "align": "left"
          },
          "hovermode": "closest",
          "mapbox": {
           "style": "light"
          },
          "paper_bgcolor": "white",
          "plot_bgcolor": "#E5ECF6",
          "polar": {
           "angularaxis": {
            "gridcolor": "white",
            "linecolor": "white",
            "ticks": ""
           },
           "bgcolor": "#E5ECF6",
           "radialaxis": {
            "gridcolor": "white",
            "linecolor": "white",
            "ticks": ""
           }
          },
          "scene": {
           "xaxis": {
            "backgroundcolor": "#E5ECF6",
            "gridcolor": "white",
            "gridwidth": 2,
            "linecolor": "white",
            "showbackground": true,
            "ticks": "",
            "zerolinecolor": "white"
           },
           "yaxis": {
            "backgroundcolor": "#E5ECF6",
            "gridcolor": "white",
            "gridwidth": 2,
            "linecolor": "white",
            "showbackground": true,
            "ticks": "",
            "zerolinecolor": "white"
           },
           "zaxis": {
            "backgroundcolor": "#E5ECF6",
            "gridcolor": "white",
            "gridwidth": 2,
            "linecolor": "white",
            "showbackground": true,
            "ticks": "",
            "zerolinecolor": "white"
           }
          },
          "shapedefaults": {
           "line": {
            "color": "#2a3f5f"
           }
          },
          "ternary": {
           "aaxis": {
            "gridcolor": "white",
            "linecolor": "white",
            "ticks": ""
           },
           "baxis": {
            "gridcolor": "white",
            "linecolor": "white",
            "ticks": ""
           },
           "bgcolor": "#E5ECF6",
           "caxis": {
            "gridcolor": "white",
            "linecolor": "white",
            "ticks": ""
           }
          },
          "title": {
           "x": 0.05
          },
          "xaxis": {
           "automargin": true,
           "gridcolor": "white",
           "linecolor": "white",
           "ticks": "",
           "title": {
            "standoff": 15
           },
           "zerolinecolor": "white",
           "zerolinewidth": 2
          },
          "yaxis": {
           "automargin": true,
           "gridcolor": "white",
           "linecolor": "white",
           "ticks": "",
           "title": {
            "standoff": 15
           },
           "zerolinecolor": "white",
           "zerolinewidth": 2
          }
         }
        },
        "title": {
         "text": "Distribution of the Top 10 Market Value Fortune 500 Companies in the U.S."
        }
       }
      },
      "image/png": "[encoded data removed]",
      "text/html": [
       "<div>                            <div id=\"d12e6aee-2e31-4250-989e-6f389dd842f9\" class=\"plotly-graph-div\" style=\"height:525px; width:100%;\"></div>            <script type=\"text/javascript\">                require([\"plotly\"], function(Plotly) {                    window.PLOTLYENV=window.PLOTLYENV || {};                                    if (document.getElementById(\"d12e6aee-2e31-4250-989e-6f389dd842f9\")) {                    Plotly.newPlot(                        \"d12e6aee-2e31-4250-989e-6f389dd842f9\",                        [{\"customdata\":[[37.323,-122.032,753718.0,\"Cupertino, CA\",\"Computers, Office Equipment\"],[37.3861,-122.084,579426.0,\"Mountain View, CA\",\"Internet Services and Retailing\"],[47.674,-122.122,508935.0,\"Redmond, WA\",\"Computer Software\"],[47.6062,-122.332,423031.0,\"Seattle, WA\",\"Internet Services and Retailing\"],[41.2524,-95.998,411035.0,\"Omaha, NE\",\"Insurance: Property and Casualty (Stock)\"],[37.453,-122.182,410522.0,\"Menlo Park, CA\",\"Internet Services and Retailing\"],[32.814,-96.9489,340056.0,\"Irving, TX\",\"Petroleum Refining\"],[40.4862,-74.4518,337642.0,\"New Brunswick, NJ\",\"Pharmaceuticals\"],[40.7128,-74.0059,313761.0,\"New York, NY\",\"Commercial Banks\"],[37.7749,-122.419,278516.0,\"San Francisco, CA\",\"Commercial Banks\"]],\"geo\":\"geo\",\"hovertemplate\":\"\\u003cb\\u003e%{hovertext}\\u003c\\u002fb\\u003e\\u003cbr\\u003e\\u003cbr\\u003emarketvalue=%{marker.color}\\u003cbr\\u003elocation=%{customdata[3]}\\u003cbr\\u003eindustry=%{customdata[4]}\\u003cextra\\u003e\\u003c\\u002fextra\\u003e\",\"hovertext\":[\"Apple\",\"Alphabet\",\"Microsoft\",\"Amazon.com\",\"Berkshire Hathaway\",\"Facebook\",\"Exxon Mobil\",\"Johnson & Johnson\",\"J.P. Morgan Chase\",\"Wells Fargo\"],\"lat\":[37.323,37.3861,47.674,47.6062,41.2524,37.453,32.814,40.4862,40.7128,37.7749],\"legendgroup\":\"\",\"lon\":[-122.032,-122.084,-122.122,-122.332,-95.998,-122.182,-96.9489,-74.4518,-74.0059,-122.419],\"marker\":{\"color\":[753718.0,579426.0,508935.0,423031.0,411035.0,410522.0,340056.0,337642.0,313761.0,278516.0],\"coloraxis\":\"coloraxis\",\"size\":[753718.0,579426.0,508935.0,423031.0,411035.0,410522.0,340056.0,337642.0,313761.0,278516.0],\"sizemode\":\"area\",\"sizeref\":7537.18,\"symbol\":\"circle\",\"opacity\":0.7},\"mode\":\"markers\",\"name\":\"\",\"showlegend\":false,\"type\":\"scattergeo\"}],                        {\"template\":{\"data\":{\"histogram2dcontour\":[{\"type\":\"histogram2dcontour\",\"colorbar\":{\"outlinewidth\":0,\"ticks\":\"\"},\"colorscale\":[[0.0,\"#0d0887\"],[0.1111111111111111,\"#46039f\"],[0.2222222222222222,\"#7201a8\"],[0.3333333333333333,\"#9c179e\"],[0.4444444444444444,\"#bd3786\"],[0.5555555555555556,\"#d8576b\"],[0.6666666666666666,\"#ed7953\"],[0.7777777777777778,\"#fb9f3a\"],[0.8888888888888888,\"#fdca26\"],[1.0,\"#f0f921\"]]}],\"choropleth\":[{\"type\":\"choropleth\",\"colorbar\":{\"outlinewidth\":0,\"ticks\":\"\"}}],\"histogram2d\":[{\"type\":\"histogram2d\",\"colorbar\":{\"outlinewidth\":0,\"ticks\":\"\"},\"colorscale\":[[0.0,\"#0d0887\"],[0.1111111111111111,\"#46039f\"],[0.2222222222222222,\"#7201a8\"],[0.3333333333333333,\"#9c179e\"],[0.4444444444444444,\"#bd3786\"],[0.5555555555555556,\"#d8576b\"],[0.6666666666666666,\"#ed7953\"],[0.7777777777777778,\"#fb9f3a\"],[0.8888888888888888,\"#fdca26\"],[1.0,\"#f0f921\"]]}],\"heatmap\":[{\"type\":\"heatmap\",\"colorbar\":{\"outlinewidth\":0,\"ticks\":\"\"},\"colorscale\":[[0.0,\"#0d0887\"],[0.1111111111111111,\"#46039f\"],[0.2222222222222222,\"#7201a8\"],[0.3333333333333333,\"#9c179e\"],[0.4444444444444444,\"#bd3786\"],[0.5555555555555556,\"#d8576b\"],[0.6666666666666666,\"#ed7953\"],[0.7777777777777778,\"#fb9f3a\"],[0.8888888888888888,\"#fdca26\"],[1.0,\"#f0f921\"]]}],\"heatmapgl\":[{\"type\":\"heatmapgl\",\"colorbar\":{\"outlinewidth\":0,\"ticks\":\"\"},\"colorscale\":[[0.0,\"#0d0887\"],[0.1111111111111111,\"#46039f\"],[0.2222222222222222,\"#7201a8\"],[0.3333333333333333,\"#9c179e\"],[0.4444444444444444,\"#bd3786\"],[0.5555555555555556,\"#d8576b\"],[0.6666666666666666,\"#ed7953\"],[0.7777777777777778,\"#fb9f3a\"],[0.8888888888888888,\"#fdca26\"],[1.0,\"#f0f921\"]]}],\"contourcarpet\":[{\"type\":\"contourcarpet\",\"colorbar\":{\"outlinewidth\":0,\"ticks\":\"\"}}],\"contour\":[{\"type\":\"contour\",\"colorbar\":{\"outlinewidth\":0,\"ticks\":\"\"},\"colorscale\":[[0.0,\"#0d0887\"],[0.1111111111111111,\"#46039f\"],[0.2222222222222222,\"#7201a8\"],[0.3333333333333333,\"#9c179e\"],[0.4444444444444444,\"#bd3786\"],[0.5555555555555556,\"#d8576b\"],[0.6666666666666666,\"#ed7953\"],[0.7777777777777778,\"#fb9f3a\"],[0.8888888888888888,\"#fdca26\"],[1.0,\"#f0f921\"]]}],\"surface\":[{\"type\":\"surface\",\"colorbar\":{\"outlinewidth\":0,\"ticks\":\"\"},\"colorscale\":[[0.0,\"#0d0887\"],[0.1111111111111111,\"#46039f\"],[0.2222222222222222,\"#7201a8\"],[0.3333333333333333,\"#9c179e\"],[0.4444444444444444,\"#bd3786\"],[0.5555555555555556,\"#d8576b\"],[0.6666666666666666,\"#ed7953\"],[0.7777777777777778,\"#fb9f3a\"],[0.8888888888888888,\"#fdca26\"],[1.0,\"#f0f921\"]]}],\"mesh3d\":[{\"type\":\"mesh3d\",\"colorbar\":{\"outlinewidth\":0,\"ticks\":\"\"}}],\"scatter\":[{\"fillpattern\":{\"fillmode\":\"overlay\",\"size\":10,\"solidity\":0.2},\"type\":\"scatter\"}],\"parcoords\":[{\"type\":\"parcoords\",\"line\":{\"colorbar\":{\"outlinewidth\":0,\"ticks\":\"\"}}}],\"scatterpolargl\":[{\"type\":\"scatterpolargl\",\"marker\":{\"colorbar\":{\"outlinewidth\":0,\"ticks\":\"\"}}}],\"bar\":[{\"error_x\":{\"color\":\"#2a3f5f\"},\"error_y\":{\"color\":\"#2a3f5f\"},\"marker\":{\"line\":{\"color\":\"#E5ECF6\",\"width\":0.5},\"pattern\":{\"fillmode\":\"overlay\",\"size\":10,\"solidity\":0.2}},\"type\":\"bar\"}],\"scattergeo\":[{\"type\":\"scattergeo\",\"marker\":{\"colorbar\":{\"outlinewidth\":0,\"ticks\":\"\"}}}],\"scatterpolar\":[{\"type\":\"scatterpolar\",\"marker\":{\"colorbar\":{\"outlinewidth\":0,\"ticks\":\"\"}}}],\"histogram\":[{\"marker\":{\"pattern\":{\"fillmode\":\"overlay\",\"size\":10,\"solidity\":0.2}},\"type\":\"histogram\"}],\"scattergl\":[{\"type\":\"scattergl\",\"marker\":{\"colorbar\":{\"outlinewidth\":0,\"ticks\":\"\"}}}],\"scatter3d\":[{\"type\":\"scatter3d\",\"line\":{\"colorbar\":{\"outlinewidth\":0,\"ticks\":\"\"}},\"marker\":{\"colorbar\":{\"outlinewidth\":0,\"ticks\":\"\"}}}],\"scattermapbox\":[{\"type\":\"scattermapbox\",\"marker\":{\"colorbar\":{\"outlinewidth\":0,\"ticks\":\"\"}}}],\"scatterternary\":[{\"type\":\"scatterternary\",\"marker\":{\"colorbar\":{\"outlinewidth\":0,\"ticks\":\"\"}}}],\"scattercarpet\":[{\"type\":\"scattercarpet\",\"marker\":{\"colorbar\":{\"outlinewidth\":0,\"ticks\":\"\"}}}],\"carpet\":[{\"aaxis\":{\"endlinecolor\":\"#2a3f5f\",\"gridcolor\":\"white\",\"linecolor\":\"white\",\"minorgridcolor\":\"white\",\"startlinecolor\":\"#2a3f5f\"},\"baxis\":{\"endlinecolor\":\"#2a3f5f\",\"gridcolor\":\"white\",\"linecolor\":\"white\",\"minorgridcolor\":\"white\",\"startlinecolor\":\"#2a3f5f\"},\"type\":\"carpet\"}],\"table\":[{\"cells\":{\"fill\":{\"color\":\"#EBF0F8\"},\"line\":{\"color\":\"white\"}},\"header\":{\"fill\":{\"color\":\"#C8D4E3\"},\"line\":{\"color\":\"white\"}},\"type\":\"table\"}],\"barpolar\":[{\"marker\":{\"line\":{\"color\":\"#E5ECF6\",\"width\":0.5},\"pattern\":{\"fillmode\":\"overlay\",\"size\":10,\"solidity\":0.2}},\"type\":\"barpolar\"}],\"pie\":[{\"automargin\":true,\"type\":\"pie\"}]},\"layout\":{\"autotypenumbers\":\"strict\",\"colorway\":[\"#636efa\",\"#EF553B\",\"#00cc96\",\"#ab63fa\",\"#FFA15A\",\"#19d3f3\",\"#FF6692\",\"#B6E880\",\"#FF97FF\",\"#FECB52\"],\"font\":{\"color\":\"#2a3f5f\"},\"hovermode\":\"closest\",\"hoverlabel\":{\"align\":\"left\"},\"paper_bgcolor\":\"white\",\"plot_bgcolor\":\"#E5ECF6\",\"polar\":{\"bgcolor\":\"#E5ECF6\",\"angularaxis\":{\"gridcolor\":\"white\",\"linecolor\":\"white\",\"ticks\":\"\"},\"radialaxis\":{\"gridcolor\":\"white\",\"linecolor\":\"white\",\"ticks\":\"\"}},\"ternary\":{\"bgcolor\":\"#E5ECF6\",\"aaxis\":{\"gridcolor\":\"white\",\"linecolor\":\"white\",\"ticks\":\"\"},\"baxis\":{\"gridcolor\":\"white\",\"linecolor\":\"white\",\"ticks\":\"\"},\"caxis\":{\"gridcolor\":\"white\",\"linecolor\":\"white\",\"ticks\":\"\"}},\"coloraxis\":{\"colorbar\":{\"outlinewidth\":0,\"ticks\":\"\"}},\"colorscale\":{\"sequential\":[[0.0,\"#0d0887\"],[0.1111111111111111,\"#46039f\"],[0.2222222222222222,\"#7201a8\"],[0.3333333333333333,\"#9c179e\"],[0.4444444444444444,\"#bd3786\"],[0.5555555555555556,\"#d8576b\"],[0.6666666666666666,\"#ed7953\"],[0.7777777777777778,\"#fb9f3a\"],[0.8888888888888888,\"#fdca26\"],[1.0,\"#f0f921\"]],\"sequentialminus\":[[0.0,\"#0d0887\"],[0.1111111111111111,\"#46039f\"],[0.2222222222222222,\"#7201a8\"],[0.3333333333333333,\"#9c179e\"],[0.4444444444444444,\"#bd3786\"],[0.5555555555555556,\"#d8576b\"],[0.6666666666666666,\"#ed7953\"],[0.7777777777777778,\"#fb9f3a\"],[0.8888888888888888,\"#fdca26\"],[1.0,\"#f0f921\"]],\"diverging\":[[0,\"#8e0152\"],[0.1,\"#c51b7d\"],[0.2,\"#de77ae\"],[0.3,\"#f1b6da\"],[0.4,\"#fde0ef\"],[0.5,\"#f7f7f7\"],[0.6,\"#e6f5d0\"],[0.7,\"#b8e186\"],[0.8,\"#7fbc41\"],[0.9,\"#4d9221\"],[1,\"#276419\"]]},\"xaxis\":{\"gridcolor\":\"white\",\"linecolor\":\"white\",\"ticks\":\"\",\"title\":{\"standoff\":15},\"zerolinecolor\":\"white\",\"automargin\":true,\"zerolinewidth\":2},\"yaxis\":{\"gridcolor\":\"white\",\"linecolor\":\"white\",\"ticks\":\"\",\"title\":{\"standoff\":15},\"zerolinecolor\":\"white\",\"automargin\":true,\"zerolinewidth\":2},\"scene\":{\"xaxis\":{\"backgroundcolor\":\"#E5ECF6\",\"gridcolor\":\"white\",\"linecolor\":\"white\",\"showbackground\":true,\"ticks\":\"\",\"zerolinecolor\":\"white\",\"gridwidth\":2},\"yaxis\":{\"backgroundcolor\":\"#E5ECF6\",\"gridcolor\":\"white\",\"linecolor\":\"white\",\"showbackground\":true,\"ticks\":\"\",\"zerolinecolor\":\"white\",\"gridwidth\":2},\"zaxis\":{\"backgroundcolor\":\"#E5ECF6\",\"gridcolor\":\"white\",\"linecolor\":\"white\",\"showbackground\":true,\"ticks\":\"\",\"zerolinecolor\":\"white\",\"gridwidth\":2}},\"shapedefaults\":{\"line\":{\"color\":\"#2a3f5f\"}},\"annotationdefaults\":{\"arrowcolor\":\"#2a3f5f\",\"arrowhead\":0,\"arrowwidth\":1},\"geo\":{\"bgcolor\":\"white\",\"landcolor\":\"#E5ECF6\",\"subunitcolor\":\"white\",\"showland\":true,\"showlakes\":true,\"lakecolor\":\"white\"},\"title\":{\"x\":0.05},\"mapbox\":{\"style\":\"light\"}}},\"geo\":{\"domain\":{\"x\":[0.0,1.0],\"y\":[0.0,1.0]},\"center\":{},\"scope\":\"usa\"},\"coloraxis\":{\"colorbar\":{\"title\":{\"text\":\"marketvalue\"}},\"colorscale\":[[0.0,\"#0d0887\"],[0.1111111111111111,\"#46039f\"],[0.2222222222222222,\"#7201a8\"],[0.3333333333333333,\"#9c179e\"],[0.4444444444444444,\"#bd3786\"],[0.5555555555555556,\"#d8576b\"],[0.6666666666666666,\"#ed7953\"],[0.7777777777777778,\"#fb9f3a\"],[0.8888888888888888,\"#fdca26\"],[1.0,\"#f0f921\"]]},\"legend\":{\"tracegroupgap\":0,\"itemsizing\":\"constant\"},\"title\":{\"text\":\"Distribution of the Top 10 Market Value Fortune 500 Companies in the U.S.\"}},                        {\"responsive\": true}                    ).then(function(){\n",
       "                            \n",
       "var gd = document.getElementById('d12e6aee-2e31-4250-989e-6f389dd842f9');\n",
       "var x = new MutationObserver(function (mutations, observer) {{\n",
       "        var display = window.getComputedStyle(gd).display;\n",
       "        if (!display || display === 'none') {{\n",
       "            console.log([gd, 'removed!']);\n",
       "            Plotly.purge(gd);\n",
       "            observer.disconnect();\n",
       "        }}\n",
       "}});\n",
       "\n",
       "// Listen for the removal of the full notebook cells\n",
       "var notebookContainer = gd.closest('#notebook-container');\n",
       "if (notebookContainer) {{\n",
       "    x.observe(notebookContainer, {childList: true});\n",
       "}}\n",
       "\n",
       "// Listen for the clearing of the current output cell\n",
       "var outputEl = gd.closest('.output');\n",
       "if (outputEl) {{\n",
       "    x.observe(outputEl, {childList: true});\n",
       "}}\n",
       "\n",
       "                        })                };                });            </script>        </div>"
      ]
     },
     "metadata": {},
     "output_type": "display_data"
    }
   ],
   "source": [
    "fig = px.scatter_geo(\n",
    "    df_top10,\n",
    "    lat = \"latitude\",\n",
    "    lon = \"longitude\",\n",
    "    size = \"marketvalue\",\n",
    "    color = \"marketvalue\",\n",
    "    hover_name = \"company\",\n",
    "    hover_data = {\"latitude\": False, \"longitude\": False, \"marketvalue\": True, \"location\": True, \"industry\": True},\n",
    "    title = \"Distribution of the Top 10 Market Value Fortune 500 Companies in the U.S.\",\n",
    "    scope = \"usa\",\n",
    "    template = \"plotly\",\n",
    "    size_max = 10\n",
    ")\n",
    "\n",
    "fig.update_traces(marker = dict(opacity = 0.7), text = None)\n",
    "fig.show()"
   ]
  },
  {
   "cell_type": "markdown",
   "id": "c5ba9f17-b6ed-4766-8d2f-6ce496f6ba88",
   "metadata": {},
   "source": [
    "### Takeaways\n",
    "1. The Top 10 market value Fortune 500 companies in the U.S. are concentrated in five major states: California (4 companies), New York (2 companies), Washington (2 companies), Nebraska (1 company), and Texas (1 company). However, since these companies are geographically clustered, this visualization may not be the most effective way to display the data. Users need to carefully hover over California, New York, and Washington to view each company.\n",
    "2. Geographically, 80% of the Top 10 market share Fortune 500 companies are located along the coasts, with only two companies situated inland.\n",
    "3. Industry-wise, the majority of these companies on the West Coast are concentrated in the technology sector. In contrast, inland companies are predominantly in heavy industry and financial services, while East Coast companies focus on financial services and pharmaceuticals."
   ]
  }
 ],
 "metadata": {
  "kernelspec": {
   "display_name": "Python 3 (ipykernel)",
   "language": "python",
   "name": "python3"
  },
  "language_info": {
   "codemirror_mode": {
    "name": "ipython",
    "version": 3
   },
   "file_extension": ".py",
   "mimetype": "text/x-python",
   "name": "python",
   "nbconvert_exporter": "python",
   "pygments_lexer": "ipython3",
   "version": "3.12.2"
  }
 },
 "nbformat": 4,
 "nbformat_minor": 5
}
